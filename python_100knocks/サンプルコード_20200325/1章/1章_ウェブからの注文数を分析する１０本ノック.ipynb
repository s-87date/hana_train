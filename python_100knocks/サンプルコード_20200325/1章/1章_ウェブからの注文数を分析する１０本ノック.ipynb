{
 "cells": [
  {
   "cell_type": "markdown",
   "metadata": {},
   "source": [
    "# １章 ウェブの注文数を分析する１０本ノック\n",
    "\n",
    "ここでは、ある企業のECサイトでの商品の注文数の推移を分析していきます。  \n",
    "データの属性を理解し、分析をするためにデータを加工した後、  \n",
    "データの可視化を行うことで問題を発見していくプロセスを学びます。"
   ]
  },
  {
   "cell_type": "markdown",
   "metadata": {},
   "source": [
    "### ノック１：データを読み込んでみよう"
   ]
  },
  {
   "cell_type": "code",
   "execution_count": 2,
   "metadata": {},
   "outputs": [
    {
     "output_type": "execute_result",
     "data": {
      "text/plain": "  customer_id customer_name    registration_date customer_name_kana  \\\n0    IK152942        平田 裕次郎  2019-01-01 00:25:33          ひらた ゆうじろう   \n1    TS808488         田村 詩織  2019-01-01 01:13:45            たむら しおり   \n2    AS834628         久野 由樹  2019-01-01 02:00:14             ひさの ゆき   \n3    AS345469          鶴岡 薫  2019-01-01 04:48:22           つるおか かおる   \n4    GD892565         大内 高史  2019-01-01 04:54:51           おおうち たかし   \n\n                         email gender  age      birth pref  \n0  hirata_yuujirou@example.com      M   29  1990/6/10  石川県  \n1    tamura_shiori@example.com      F   33  1986/5/20  東京都  \n2      hisano_yuki@example.com      F   63   1956/1/2  茨城県  \n3   tsuruoka_kaoru@example.com      M   74  1945/3/25  東京都  \n4   oouchi_takashi@example.com      M   54   1965/8/5  千葉県  ",
      "text/html": "<div>\n<style scoped>\n    .dataframe tbody tr th:only-of-type {\n        vertical-align: middle;\n    }\n\n    .dataframe tbody tr th {\n        vertical-align: top;\n    }\n\n    .dataframe thead th {\n        text-align: right;\n    }\n</style>\n<table border=\"1\" class=\"dataframe\">\n  <thead>\n    <tr style=\"text-align: right;\">\n      <th></th>\n      <th>customer_id</th>\n      <th>customer_name</th>\n      <th>registration_date</th>\n      <th>customer_name_kana</th>\n      <th>email</th>\n      <th>gender</th>\n      <th>age</th>\n      <th>birth</th>\n      <th>pref</th>\n    </tr>\n  </thead>\n  <tbody>\n    <tr>\n      <th>0</th>\n      <td>IK152942</td>\n      <td>平田 裕次郎</td>\n      <td>2019-01-01 00:25:33</td>\n      <td>ひらた ゆうじろう</td>\n      <td>hirata_yuujirou@example.com</td>\n      <td>M</td>\n      <td>29</td>\n      <td>1990/6/10</td>\n      <td>石川県</td>\n    </tr>\n    <tr>\n      <th>1</th>\n      <td>TS808488</td>\n      <td>田村 詩織</td>\n      <td>2019-01-01 01:13:45</td>\n      <td>たむら しおり</td>\n      <td>tamura_shiori@example.com</td>\n      <td>F</td>\n      <td>33</td>\n      <td>1986/5/20</td>\n      <td>東京都</td>\n    </tr>\n    <tr>\n      <th>2</th>\n      <td>AS834628</td>\n      <td>久野 由樹</td>\n      <td>2019-01-01 02:00:14</td>\n      <td>ひさの ゆき</td>\n      <td>hisano_yuki@example.com</td>\n      <td>F</td>\n      <td>63</td>\n      <td>1956/1/2</td>\n      <td>茨城県</td>\n    </tr>\n    <tr>\n      <th>3</th>\n      <td>AS345469</td>\n      <td>鶴岡 薫</td>\n      <td>2019-01-01 04:48:22</td>\n      <td>つるおか かおる</td>\n      <td>tsuruoka_kaoru@example.com</td>\n      <td>M</td>\n      <td>74</td>\n      <td>1945/3/25</td>\n      <td>東京都</td>\n    </tr>\n    <tr>\n      <th>4</th>\n      <td>GD892565</td>\n      <td>大内 高史</td>\n      <td>2019-01-01 04:54:51</td>\n      <td>おおうち たかし</td>\n      <td>oouchi_takashi@example.com</td>\n      <td>M</td>\n      <td>54</td>\n      <td>1965/8/5</td>\n      <td>千葉県</td>\n    </tr>\n  </tbody>\n</table>\n</div>"
     },
     "metadata": {},
     "execution_count": 2
    }
   ],
   "source": [
    "import pandas as pd\n",
    "customer_master = pd.read_csv('customer_master.csv')\n",
    "customer_master.head()"
   ]
  },
  {
   "cell_type": "code",
   "execution_count": 3,
   "metadata": {},
   "outputs": [
    {
     "output_type": "execute_result",
     "data": {
      "text/plain": "  item_id item_name  item_price\n0    S001      PC-A       50000\n1    S002      PC-B       85000\n2    S003      PC-C      120000\n3    S004      PC-D      180000\n4    S005      PC-E      210000",
      "text/html": "<div>\n<style scoped>\n    .dataframe tbody tr th:only-of-type {\n        vertical-align: middle;\n    }\n\n    .dataframe tbody tr th {\n        vertical-align: top;\n    }\n\n    .dataframe thead th {\n        text-align: right;\n    }\n</style>\n<table border=\"1\" class=\"dataframe\">\n  <thead>\n    <tr style=\"text-align: right;\">\n      <th></th>\n      <th>item_id</th>\n      <th>item_name</th>\n      <th>item_price</th>\n    </tr>\n  </thead>\n  <tbody>\n    <tr>\n      <th>0</th>\n      <td>S001</td>\n      <td>PC-A</td>\n      <td>50000</td>\n    </tr>\n    <tr>\n      <th>1</th>\n      <td>S002</td>\n      <td>PC-B</td>\n      <td>85000</td>\n    </tr>\n    <tr>\n      <th>2</th>\n      <td>S003</td>\n      <td>PC-C</td>\n      <td>120000</td>\n    </tr>\n    <tr>\n      <th>3</th>\n      <td>S004</td>\n      <td>PC-D</td>\n      <td>180000</td>\n    </tr>\n    <tr>\n      <th>4</th>\n      <td>S005</td>\n      <td>PC-E</td>\n      <td>210000</td>\n    </tr>\n  </tbody>\n</table>\n</div>"
     },
     "metadata": {},
     "execution_count": 3
    }
   ],
   "source": [
    "item_master = pd.read_csv('item_master.csv')\n",
    "item_master.head()"
   ]
  },
  {
   "cell_type": "code",
   "execution_count": 4,
   "metadata": {},
   "outputs": [
    {
     "output_type": "execute_result",
     "data": {
      "text/plain": "  transaction_id   price         payment_date customer_id\n0    T0000000113  210000  2019-02-01 01:36:57    PL563502\n1    T0000000114   50000  2019-02-01 01:37:23    HD678019\n2    T0000000115  120000  2019-02-01 02:34:19    HD298120\n3    T0000000116  210000  2019-02-01 02:47:23    IK452215\n4    T0000000117  170000  2019-02-01 04:33:46    PL542865",
      "text/html": "<div>\n<style scoped>\n    .dataframe tbody tr th:only-of-type {\n        vertical-align: middle;\n    }\n\n    .dataframe tbody tr th {\n        vertical-align: top;\n    }\n\n    .dataframe thead th {\n        text-align: right;\n    }\n</style>\n<table border=\"1\" class=\"dataframe\">\n  <thead>\n    <tr style=\"text-align: right;\">\n      <th></th>\n      <th>transaction_id</th>\n      <th>price</th>\n      <th>payment_date</th>\n      <th>customer_id</th>\n    </tr>\n  </thead>\n  <tbody>\n    <tr>\n      <th>0</th>\n      <td>T0000000113</td>\n      <td>210000</td>\n      <td>2019-02-01 01:36:57</td>\n      <td>PL563502</td>\n    </tr>\n    <tr>\n      <th>1</th>\n      <td>T0000000114</td>\n      <td>50000</td>\n      <td>2019-02-01 01:37:23</td>\n      <td>HD678019</td>\n    </tr>\n    <tr>\n      <th>2</th>\n      <td>T0000000115</td>\n      <td>120000</td>\n      <td>2019-02-01 02:34:19</td>\n      <td>HD298120</td>\n    </tr>\n    <tr>\n      <th>3</th>\n      <td>T0000000116</td>\n      <td>210000</td>\n      <td>2019-02-01 02:47:23</td>\n      <td>IK452215</td>\n    </tr>\n    <tr>\n      <th>4</th>\n      <td>T0000000117</td>\n      <td>170000</td>\n      <td>2019-02-01 04:33:46</td>\n      <td>PL542865</td>\n    </tr>\n  </tbody>\n</table>\n</div>"
     },
     "metadata": {},
     "execution_count": 4
    }
   ],
   "source": [
    "transaction_1 = pd.read_csv('transaction_1.csv')\n",
    "transaction_1.head()"
   ]
  },
  {
   "cell_type": "code",
   "execution_count": 5,
   "metadata": {},
   "outputs": [
    {
     "output_type": "execute_result",
     "data": {
      "text/plain": "   detail_id transaction_id item_id  quantity\n0          0    T0000000113    S005         1\n1          1    T0000000114    S001         1\n2          2    T0000000115    S003         1\n3          3    T0000000116    S005         1\n4          4    T0000000117    S002         2",
      "text/html": "<div>\n<style scoped>\n    .dataframe tbody tr th:only-of-type {\n        vertical-align: middle;\n    }\n\n    .dataframe tbody tr th {\n        vertical-align: top;\n    }\n\n    .dataframe thead th {\n        text-align: right;\n    }\n</style>\n<table border=\"1\" class=\"dataframe\">\n  <thead>\n    <tr style=\"text-align: right;\">\n      <th></th>\n      <th>detail_id</th>\n      <th>transaction_id</th>\n      <th>item_id</th>\n      <th>quantity</th>\n    </tr>\n  </thead>\n  <tbody>\n    <tr>\n      <th>0</th>\n      <td>0</td>\n      <td>T0000000113</td>\n      <td>S005</td>\n      <td>1</td>\n    </tr>\n    <tr>\n      <th>1</th>\n      <td>1</td>\n      <td>T0000000114</td>\n      <td>S001</td>\n      <td>1</td>\n    </tr>\n    <tr>\n      <th>2</th>\n      <td>2</td>\n      <td>T0000000115</td>\n      <td>S003</td>\n      <td>1</td>\n    </tr>\n    <tr>\n      <th>3</th>\n      <td>3</td>\n      <td>T0000000116</td>\n      <td>S005</td>\n      <td>1</td>\n    </tr>\n    <tr>\n      <th>4</th>\n      <td>4</td>\n      <td>T0000000117</td>\n      <td>S002</td>\n      <td>2</td>\n    </tr>\n  </tbody>\n</table>\n</div>"
     },
     "metadata": {},
     "execution_count": 5
    }
   ],
   "source": [
    "transaction_detail_1 = pd.read_csv('transaction_detail_1.csv')\n",
    "transaction_detail_1.head()"
   ]
  },
  {
   "cell_type": "markdown",
   "metadata": {},
   "source": [
    "### ノック２：データを結合(ユニオン)してみよう"
   ]
  },
  {
   "cell_type": "code",
   "execution_count": 6,
   "metadata": {},
   "outputs": [
    {
     "output_type": "execute_result",
     "data": {
      "text/plain": "  transaction_id   price         payment_date customer_id\n0    T0000000113  210000  2019-02-01 01:36:57    PL563502\n1    T0000000114   50000  2019-02-01 01:37:23    HD678019\n2    T0000000115  120000  2019-02-01 02:34:19    HD298120\n3    T0000000116  210000  2019-02-01 02:47:23    IK452215\n4    T0000000117  170000  2019-02-01 04:33:46    PL542865",
      "text/html": "<div>\n<style scoped>\n    .dataframe tbody tr th:only-of-type {\n        vertical-align: middle;\n    }\n\n    .dataframe tbody tr th {\n        vertical-align: top;\n    }\n\n    .dataframe thead th {\n        text-align: right;\n    }\n</style>\n<table border=\"1\" class=\"dataframe\">\n  <thead>\n    <tr style=\"text-align: right;\">\n      <th></th>\n      <th>transaction_id</th>\n      <th>price</th>\n      <th>payment_date</th>\n      <th>customer_id</th>\n    </tr>\n  </thead>\n  <tbody>\n    <tr>\n      <th>0</th>\n      <td>T0000000113</td>\n      <td>210000</td>\n      <td>2019-02-01 01:36:57</td>\n      <td>PL563502</td>\n    </tr>\n    <tr>\n      <th>1</th>\n      <td>T0000000114</td>\n      <td>50000</td>\n      <td>2019-02-01 01:37:23</td>\n      <td>HD678019</td>\n    </tr>\n    <tr>\n      <th>2</th>\n      <td>T0000000115</td>\n      <td>120000</td>\n      <td>2019-02-01 02:34:19</td>\n      <td>HD298120</td>\n    </tr>\n    <tr>\n      <th>3</th>\n      <td>T0000000116</td>\n      <td>210000</td>\n      <td>2019-02-01 02:47:23</td>\n      <td>IK452215</td>\n    </tr>\n    <tr>\n      <th>4</th>\n      <td>T0000000117</td>\n      <td>170000</td>\n      <td>2019-02-01 04:33:46</td>\n      <td>PL542865</td>\n    </tr>\n  </tbody>\n</table>\n</div>"
     },
     "metadata": {},
     "execution_count": 6
    }
   ],
   "source": [
    "transaction_2 = pd.read_csv('transaction_2.csv')\n",
    "transaction = pd.concat([transaction_1, transaction_2], ignore_index=True)\n",
    "transaction.head()"
   ]
  },
  {
   "cell_type": "code",
   "execution_count": 7,
   "metadata": {},
   "outputs": [
    {
     "output_type": "stream",
     "name": "stdout",
     "text": "5000\n1786\n6786\n"
    }
   ],
   "source": [
    "print(len(transaction_1))\n",
    "print(len(transaction_2))\n",
    "print(len(transaction))"
   ]
  },
  {
   "cell_type": "code",
   "execution_count": 9,
   "metadata": {},
   "outputs": [
    {
     "output_type": "execute_result",
     "data": {
      "text/plain": "   detail_id transaction_id item_id  quantity\n0          0    T0000000113    S005         1\n1          1    T0000000114    S001         1\n2          2    T0000000115    S003         1\n3          3    T0000000116    S005         1\n4          4    T0000000117    S002         2",
      "text/html": "<div>\n<style scoped>\n    .dataframe tbody tr th:only-of-type {\n        vertical-align: middle;\n    }\n\n    .dataframe tbody tr th {\n        vertical-align: top;\n    }\n\n    .dataframe thead th {\n        text-align: right;\n    }\n</style>\n<table border=\"1\" class=\"dataframe\">\n  <thead>\n    <tr style=\"text-align: right;\">\n      <th></th>\n      <th>detail_id</th>\n      <th>transaction_id</th>\n      <th>item_id</th>\n      <th>quantity</th>\n    </tr>\n  </thead>\n  <tbody>\n    <tr>\n      <th>0</th>\n      <td>0</td>\n      <td>T0000000113</td>\n      <td>S005</td>\n      <td>1</td>\n    </tr>\n    <tr>\n      <th>1</th>\n      <td>1</td>\n      <td>T0000000114</td>\n      <td>S001</td>\n      <td>1</td>\n    </tr>\n    <tr>\n      <th>2</th>\n      <td>2</td>\n      <td>T0000000115</td>\n      <td>S003</td>\n      <td>1</td>\n    </tr>\n    <tr>\n      <th>3</th>\n      <td>3</td>\n      <td>T0000000116</td>\n      <td>S005</td>\n      <td>1</td>\n    </tr>\n    <tr>\n      <th>4</th>\n      <td>4</td>\n      <td>T0000000117</td>\n      <td>S002</td>\n      <td>2</td>\n    </tr>\n  </tbody>\n</table>\n</div>"
     },
     "metadata": {},
     "execution_count": 9
    }
   ],
   "source": [
    "transaction_detail_2 = pd.read_csv('transaction_detail_2.csv')\n",
    "transaction_detail = pd.concat([transaction_detail_1, transaction_detail_2], ignore_index=True)\n",
    "transaction_detail.head()"
   ]
  },
  {
   "cell_type": "markdown",
   "metadata": {},
   "source": [
    "### ノック３：売上データ同士を結合(ジョイン)してみよう"
   ]
  },
  {
   "cell_type": "code",
   "execution_count": 20,
   "metadata": {},
   "outputs": [
    {
     "output_type": "execute_result",
     "data": {
      "text/plain": "   detail_id transaction_id item_id  quantity         payment_date customer_id\n0          0    T0000000113    S005         1  2019-02-01 01:36:57    PL563502\n1          1    T0000000114    S001         1  2019-02-01 01:37:23    HD678019\n2          2    T0000000115    S003         1  2019-02-01 02:34:19    HD298120\n3          3    T0000000116    S005         1  2019-02-01 02:47:23    IK452215\n4          4    T0000000117    S002         2  2019-02-01 04:33:46    PL542865",
      "text/html": "<div>\n<style scoped>\n    .dataframe tbody tr th:only-of-type {\n        vertical-align: middle;\n    }\n\n    .dataframe tbody tr th {\n        vertical-align: top;\n    }\n\n    .dataframe thead th {\n        text-align: right;\n    }\n</style>\n<table border=\"1\" class=\"dataframe\">\n  <thead>\n    <tr style=\"text-align: right;\">\n      <th></th>\n      <th>detail_id</th>\n      <th>transaction_id</th>\n      <th>item_id</th>\n      <th>quantity</th>\n      <th>payment_date</th>\n      <th>customer_id</th>\n    </tr>\n  </thead>\n  <tbody>\n    <tr>\n      <th>0</th>\n      <td>0</td>\n      <td>T0000000113</td>\n      <td>S005</td>\n      <td>1</td>\n      <td>2019-02-01 01:36:57</td>\n      <td>PL563502</td>\n    </tr>\n    <tr>\n      <th>1</th>\n      <td>1</td>\n      <td>T0000000114</td>\n      <td>S001</td>\n      <td>1</td>\n      <td>2019-02-01 01:37:23</td>\n      <td>HD678019</td>\n    </tr>\n    <tr>\n      <th>2</th>\n      <td>2</td>\n      <td>T0000000115</td>\n      <td>S003</td>\n      <td>1</td>\n      <td>2019-02-01 02:34:19</td>\n      <td>HD298120</td>\n    </tr>\n    <tr>\n      <th>3</th>\n      <td>3</td>\n      <td>T0000000116</td>\n      <td>S005</td>\n      <td>1</td>\n      <td>2019-02-01 02:47:23</td>\n      <td>IK452215</td>\n    </tr>\n    <tr>\n      <th>4</th>\n      <td>4</td>\n      <td>T0000000117</td>\n      <td>S002</td>\n      <td>2</td>\n      <td>2019-02-01 04:33:46</td>\n      <td>PL542865</td>\n    </tr>\n  </tbody>\n</table>\n</div>"
     },
     "metadata": {},
     "execution_count": 20
    }
   ],
   "source": [
    "join_data = pd.merge(transaction_detail_1, transaction[[\"transaction_id\", \"payment_date\", \"customer_id\"]], on=\"transaction_id\", how=\"left\")\n",
    "join_data.head()"
   ]
  },
  {
   "cell_type": "code",
   "execution_count": 21,
   "metadata": {},
   "outputs": [
    {
     "output_type": "stream",
     "name": "stdout",
     "text": "7144\n6786\n5000\n"
    }
   ],
   "source": [
    "print(len(transaction_detail))\n",
    "print(len(transaction))\n",
    "print(len(join_data))"
   ]
  },
  {
   "cell_type": "markdown",
   "metadata": {},
   "source": [
    "### ノック４：マスタデータを結合(ジョイン)してみよう"
   ]
  },
  {
   "cell_type": "code",
   "execution_count": 22,
   "metadata": {},
   "outputs": [
    {
     "output_type": "execute_result",
     "data": {
      "text/plain": "   detail_id transaction_id item_id  quantity         payment_date  \\\n0          0    T0000000113    S005         1  2019-02-01 01:36:57   \n1          1    T0000000114    S001         1  2019-02-01 01:37:23   \n2          2    T0000000115    S003         1  2019-02-01 02:34:19   \n3          3    T0000000116    S005         1  2019-02-01 02:47:23   \n4          4    T0000000117    S002         2  2019-02-01 04:33:46   \n\n  customer_id customer_name    registration_date customer_name_kana  \\\n0    PL563502         井本 芳正  2019-01-07 14:34:35           いもと よしまさ   \n1    HD678019         三船 六郎  2019-01-27 18:00:11           みふね ろくろう   \n2    HD298120         山根 小雁  2019-01-11 08:16:02            やまね こがん   \n3    IK452215         池田 菜摘  2019-01-10 05:07:38            いけだ なつみ   \n4    PL542865         栗田 憲一  2019-01-25 06:46:05           くりた けんいち   \n\n                         email gender  age       birth pref item_name  \\\n0  imoto_yoshimasa@example.com      M   30   1989/7/15  熊本県      PC-E   \n1   mifune_rokurou@example.com      M   73  1945/11/29  京都府      PC-A   \n2     yamane_kogan@example.com      M   42   1977/5/17  茨城県      PC-C   \n3    ikeda_natsumi@example.com      F   47   1972/3/17  兵庫県      PC-E   \n4   kurita_kenichi@example.com      M   74  1944/12/17  長崎県      PC-B   \n\n   item_price  \n0      210000  \n1       50000  \n2      120000  \n3      210000  \n4       85000  ",
      "text/html": "<div>\n<style scoped>\n    .dataframe tbody tr th:only-of-type {\n        vertical-align: middle;\n    }\n\n    .dataframe tbody tr th {\n        vertical-align: top;\n    }\n\n    .dataframe thead th {\n        text-align: right;\n    }\n</style>\n<table border=\"1\" class=\"dataframe\">\n  <thead>\n    <tr style=\"text-align: right;\">\n      <th></th>\n      <th>detail_id</th>\n      <th>transaction_id</th>\n      <th>item_id</th>\n      <th>quantity</th>\n      <th>payment_date</th>\n      <th>customer_id</th>\n      <th>customer_name</th>\n      <th>registration_date</th>\n      <th>customer_name_kana</th>\n      <th>email</th>\n      <th>gender</th>\n      <th>age</th>\n      <th>birth</th>\n      <th>pref</th>\n      <th>item_name</th>\n      <th>item_price</th>\n    </tr>\n  </thead>\n  <tbody>\n    <tr>\n      <th>0</th>\n      <td>0</td>\n      <td>T0000000113</td>\n      <td>S005</td>\n      <td>1</td>\n      <td>2019-02-01 01:36:57</td>\n      <td>PL563502</td>\n      <td>井本 芳正</td>\n      <td>2019-01-07 14:34:35</td>\n      <td>いもと よしまさ</td>\n      <td>imoto_yoshimasa@example.com</td>\n      <td>M</td>\n      <td>30</td>\n      <td>1989/7/15</td>\n      <td>熊本県</td>\n      <td>PC-E</td>\n      <td>210000</td>\n    </tr>\n    <tr>\n      <th>1</th>\n      <td>1</td>\n      <td>T0000000114</td>\n      <td>S001</td>\n      <td>1</td>\n      <td>2019-02-01 01:37:23</td>\n      <td>HD678019</td>\n      <td>三船 六郎</td>\n      <td>2019-01-27 18:00:11</td>\n      <td>みふね ろくろう</td>\n      <td>mifune_rokurou@example.com</td>\n      <td>M</td>\n      <td>73</td>\n      <td>1945/11/29</td>\n      <td>京都府</td>\n      <td>PC-A</td>\n      <td>50000</td>\n    </tr>\n    <tr>\n      <th>2</th>\n      <td>2</td>\n      <td>T0000000115</td>\n      <td>S003</td>\n      <td>1</td>\n      <td>2019-02-01 02:34:19</td>\n      <td>HD298120</td>\n      <td>山根 小雁</td>\n      <td>2019-01-11 08:16:02</td>\n      <td>やまね こがん</td>\n      <td>yamane_kogan@example.com</td>\n      <td>M</td>\n      <td>42</td>\n      <td>1977/5/17</td>\n      <td>茨城県</td>\n      <td>PC-C</td>\n      <td>120000</td>\n    </tr>\n    <tr>\n      <th>3</th>\n      <td>3</td>\n      <td>T0000000116</td>\n      <td>S005</td>\n      <td>1</td>\n      <td>2019-02-01 02:47:23</td>\n      <td>IK452215</td>\n      <td>池田 菜摘</td>\n      <td>2019-01-10 05:07:38</td>\n      <td>いけだ なつみ</td>\n      <td>ikeda_natsumi@example.com</td>\n      <td>F</td>\n      <td>47</td>\n      <td>1972/3/17</td>\n      <td>兵庫県</td>\n      <td>PC-E</td>\n      <td>210000</td>\n    </tr>\n    <tr>\n      <th>4</th>\n      <td>4</td>\n      <td>T0000000117</td>\n      <td>S002</td>\n      <td>2</td>\n      <td>2019-02-01 04:33:46</td>\n      <td>PL542865</td>\n      <td>栗田 憲一</td>\n      <td>2019-01-25 06:46:05</td>\n      <td>くりた けんいち</td>\n      <td>kurita_kenichi@example.com</td>\n      <td>M</td>\n      <td>74</td>\n      <td>1944/12/17</td>\n      <td>長崎県</td>\n      <td>PC-B</td>\n      <td>85000</td>\n    </tr>\n  </tbody>\n</table>\n</div>"
     },
     "metadata": {},
     "execution_count": 22
    }
   ],
   "source": [
    "join_data = pd.merge(join_data, customer_master, on=\"customer_id\", how=\"left\")\n",
    "join_data = pd.merge(join_data, item_master, on=\"item_id\", how=\"left\")\n",
    "join_data.head()"
   ]
  },
  {
   "cell_type": "markdown",
   "metadata": {},
   "source": [
    "### ノック5：必要なデータ列を作ろう"
   ]
  },
  {
   "cell_type": "code",
   "execution_count": 23,
   "metadata": {},
   "outputs": [
    {
     "output_type": "execute_result",
     "data": {
      "text/plain": "   quantity  item_price   price\n0         1      210000  210000\n1         1       50000   50000\n2         1      120000  120000\n3         1      210000  210000\n4         2       85000  170000",
      "text/html": "<div>\n<style scoped>\n    .dataframe tbody tr th:only-of-type {\n        vertical-align: middle;\n    }\n\n    .dataframe tbody tr th {\n        vertical-align: top;\n    }\n\n    .dataframe thead th {\n        text-align: right;\n    }\n</style>\n<table border=\"1\" class=\"dataframe\">\n  <thead>\n    <tr style=\"text-align: right;\">\n      <th></th>\n      <th>quantity</th>\n      <th>item_price</th>\n      <th>price</th>\n    </tr>\n  </thead>\n  <tbody>\n    <tr>\n      <th>0</th>\n      <td>1</td>\n      <td>210000</td>\n      <td>210000</td>\n    </tr>\n    <tr>\n      <th>1</th>\n      <td>1</td>\n      <td>50000</td>\n      <td>50000</td>\n    </tr>\n    <tr>\n      <th>2</th>\n      <td>1</td>\n      <td>120000</td>\n      <td>120000</td>\n    </tr>\n    <tr>\n      <th>3</th>\n      <td>1</td>\n      <td>210000</td>\n      <td>210000</td>\n    </tr>\n    <tr>\n      <th>4</th>\n      <td>2</td>\n      <td>85000</td>\n      <td>170000</td>\n    </tr>\n  </tbody>\n</table>\n</div>"
     },
     "metadata": {},
     "execution_count": 23
    }
   ],
   "source": [
    "join_data[\"price\"] = join_data[\"quantity\"] * join_data[\"item_price\"]\n",
    "join_data[[\"quantity\", \"item_price\", \"price\"]].head()"
   ]
  },
  {
   "cell_type": "markdown",
   "metadata": {},
   "source": [
    "### ノック6：データ検算をしよう"
   ]
  },
  {
   "cell_type": "code",
   "execution_count": 26,
   "metadata": {},
   "outputs": [
    {
     "output_type": "stream",
     "name": "stdout",
     "text": "675765000\n971135000\n"
    }
   ],
   "source": [
    "print(join_data[\"price\"].sum())\n",
    "print(transaction[\"price\"].sum())"
   ]
  },
  {
   "cell_type": "code",
   "execution_count": null,
   "metadata": {},
   "outputs": [],
   "source": []
  },
  {
   "cell_type": "markdown",
   "metadata": {},
   "source": [
    "### ノック7：各種統計量を把握しよう"
   ]
  },
  {
   "cell_type": "code",
   "execution_count": 27,
   "metadata": {},
   "outputs": [
    {
     "output_type": "execute_result",
     "data": {
      "text/plain": "detail_id             0\ntransaction_id        0\nitem_id               0\nquantity              0\npayment_date          0\ncustomer_id           0\ncustomer_name         0\nregistration_date     0\ncustomer_name_kana    0\nemail                 0\ngender                0\nage                   0\nbirth                 0\npref                  0\nitem_name             0\nitem_price            0\nprice                 0\ndtype: int64"
     },
     "metadata": {},
     "execution_count": 27
    }
   ],
   "source": [
    "join_data.isnull().sum()"
   ]
  },
  {
   "cell_type": "code",
   "execution_count": 28,
   "metadata": {},
   "outputs": [
    {
     "output_type": "execute_result",
     "data": {
      "text/plain": "         detail_id     quantity          age     item_price         price\ncount  5000.000000  5000.000000  5000.000000    5000.000000    5000.00000\nmean   2499.500000     1.199200    50.197000  120990.000000  135153.00000\nstd    1443.520003     0.513393    17.199912   64467.674971   68584.12606\nmin       0.000000     1.000000    20.000000   50000.000000   50000.00000\n25%    1249.750000     1.000000    36.000000   50000.000000   85000.00000\n50%    2499.500000     1.000000    50.000000   85000.000000  120000.00000\n75%    3749.250000     1.000000    65.000000  180000.000000  210000.00000\nmax    4999.000000     4.000000    80.000000  210000.000000  420000.00000",
      "text/html": "<div>\n<style scoped>\n    .dataframe tbody tr th:only-of-type {\n        vertical-align: middle;\n    }\n\n    .dataframe tbody tr th {\n        vertical-align: top;\n    }\n\n    .dataframe thead th {\n        text-align: right;\n    }\n</style>\n<table border=\"1\" class=\"dataframe\">\n  <thead>\n    <tr style=\"text-align: right;\">\n      <th></th>\n      <th>detail_id</th>\n      <th>quantity</th>\n      <th>age</th>\n      <th>item_price</th>\n      <th>price</th>\n    </tr>\n  </thead>\n  <tbody>\n    <tr>\n      <th>count</th>\n      <td>5000.000000</td>\n      <td>5000.000000</td>\n      <td>5000.000000</td>\n      <td>5000.000000</td>\n      <td>5000.00000</td>\n    </tr>\n    <tr>\n      <th>mean</th>\n      <td>2499.500000</td>\n      <td>1.199200</td>\n      <td>50.197000</td>\n      <td>120990.000000</td>\n      <td>135153.00000</td>\n    </tr>\n    <tr>\n      <th>std</th>\n      <td>1443.520003</td>\n      <td>0.513393</td>\n      <td>17.199912</td>\n      <td>64467.674971</td>\n      <td>68584.12606</td>\n    </tr>\n    <tr>\n      <th>min</th>\n      <td>0.000000</td>\n      <td>1.000000</td>\n      <td>20.000000</td>\n      <td>50000.000000</td>\n      <td>50000.00000</td>\n    </tr>\n    <tr>\n      <th>25%</th>\n      <td>1249.750000</td>\n      <td>1.000000</td>\n      <td>36.000000</td>\n      <td>50000.000000</td>\n      <td>85000.00000</td>\n    </tr>\n    <tr>\n      <th>50%</th>\n      <td>2499.500000</td>\n      <td>1.000000</td>\n      <td>50.000000</td>\n      <td>85000.000000</td>\n      <td>120000.00000</td>\n    </tr>\n    <tr>\n      <th>75%</th>\n      <td>3749.250000</td>\n      <td>1.000000</td>\n      <td>65.000000</td>\n      <td>180000.000000</td>\n      <td>210000.00000</td>\n    </tr>\n    <tr>\n      <th>max</th>\n      <td>4999.000000</td>\n      <td>4.000000</td>\n      <td>80.000000</td>\n      <td>210000.000000</td>\n      <td>420000.00000</td>\n    </tr>\n  </tbody>\n</table>\n</div>"
     },
     "metadata": {},
     "execution_count": 28
    }
   ],
   "source": [
    "join_data.describe()"
   ]
  },
  {
   "cell_type": "code",
   "execution_count": 30,
   "metadata": {},
   "outputs": [
    {
     "output_type": "stream",
     "name": "stdout",
     "text": "2019-02-01 01:36:57\n2019-06-08 17:18:18\n"
    }
   ],
   "source": [
    "print(join_data[\"payment_date\"].min())\n",
    "print(join_data[\"payment_date\"].max())"
   ]
  },
  {
   "cell_type": "markdown",
   "metadata": {},
   "source": [
    "### ノック8：月別でデータを集計してみよう"
   ]
  },
  {
   "cell_type": "code",
   "execution_count": 31,
   "metadata": {},
   "outputs": [
    {
     "output_type": "execute_result",
     "data": {
      "text/plain": "detail_id              int64\ntransaction_id        object\nitem_id               object\nquantity               int64\npayment_date          object\ncustomer_id           object\ncustomer_name         object\nregistration_date     object\ncustomer_name_kana    object\nemail                 object\ngender                object\nage                    int64\nbirth                 object\npref                  object\nitem_name             object\nitem_price             int64\nprice                  int64\ndtype: object"
     },
     "metadata": {},
     "execution_count": 31
    }
   ],
   "source": [
    "join_data.dtypes"
   ]
  },
  {
   "cell_type": "code",
   "execution_count": 32,
   "metadata": {},
   "outputs": [
    {
     "output_type": "execute_result",
     "data": {
      "text/plain": "         payment_date payment_month\n0 2019-02-01 01:36:57        201902\n1 2019-02-01 01:37:23        201902\n2 2019-02-01 02:34:19        201902\n3 2019-02-01 02:47:23        201902\n4 2019-02-01 04:33:46        201902",
      "text/html": "<div>\n<style scoped>\n    .dataframe tbody tr th:only-of-type {\n        vertical-align: middle;\n    }\n\n    .dataframe tbody tr th {\n        vertical-align: top;\n    }\n\n    .dataframe thead th {\n        text-align: right;\n    }\n</style>\n<table border=\"1\" class=\"dataframe\">\n  <thead>\n    <tr style=\"text-align: right;\">\n      <th></th>\n      <th>payment_date</th>\n      <th>payment_month</th>\n    </tr>\n  </thead>\n  <tbody>\n    <tr>\n      <th>0</th>\n      <td>2019-02-01 01:36:57</td>\n      <td>201902</td>\n    </tr>\n    <tr>\n      <th>1</th>\n      <td>2019-02-01 01:37:23</td>\n      <td>201902</td>\n    </tr>\n    <tr>\n      <th>2</th>\n      <td>2019-02-01 02:34:19</td>\n      <td>201902</td>\n    </tr>\n    <tr>\n      <th>3</th>\n      <td>2019-02-01 02:47:23</td>\n      <td>201902</td>\n    </tr>\n    <tr>\n      <th>4</th>\n      <td>2019-02-01 04:33:46</td>\n      <td>201902</td>\n    </tr>\n  </tbody>\n</table>\n</div>"
     },
     "metadata": {},
     "execution_count": 32
    }
   ],
   "source": [
    "join_data[\"payment_date\"] = pd.to_datetime(join_data[\"payment_date\"])\n",
    "join_data[\"payment_month\"] = join_data[\"payment_date\"].dt.strftime(\"%Y%m\")\n",
    "join_data[[\"payment_date\", \"payment_month\"]].head()"
   ]
  },
  {
   "cell_type": "code",
   "execution_count": 35,
   "metadata": {},
   "outputs": [
    {
     "output_type": "execute_result",
     "data": {
      "text/plain": "payment_month\n201902    160185000\n201903    160370000\n201904    160510000\n201905    155420000\n201906     39280000\nName: price, dtype: int64"
     },
     "metadata": {},
     "execution_count": 35
    }
   ],
   "source": [
    "join_data.groupby(\"payment_month\").sum()[\"price\"]"
   ]
  },
  {
   "cell_type": "markdown",
   "metadata": {},
   "source": [
    "### ノック9：月別、商品別でデータを集計してみよう"
   ]
  },
  {
   "cell_type": "code",
   "execution_count": 36,
   "metadata": {},
   "outputs": [
    {
     "output_type": "execute_result",
     "data": {
      "text/plain": "                            price  quantity\npayment_month item_name                    \n201902        PC-A       24150000       483\n              PC-B       25245000       297\n              PC-C       19800000       165\n              PC-D       31140000       173\n              PC-E       59850000       285\n201903        PC-A       26000000       520\n              PC-B       25500000       300\n              PC-C       19080000       159\n              PC-D       25740000       143\n              PC-E       64050000       305\n201904        PC-A       25900000       518\n              PC-B       23460000       276\n              PC-C       21960000       183\n              PC-D       24300000       135\n              PC-E       64890000       309\n201905        PC-A       24850000       497\n              PC-B       25330000       298\n              PC-C       20520000       171\n              PC-D       25920000       144\n              PC-E       58800000       280\n201906        PC-A        7000000       140\n              PC-B        5610000        66\n              PC-C        4320000        36\n              PC-D        8280000        46\n              PC-E       14070000        67",
      "text/html": "<div>\n<style scoped>\n    .dataframe tbody tr th:only-of-type {\n        vertical-align: middle;\n    }\n\n    .dataframe tbody tr th {\n        vertical-align: top;\n    }\n\n    .dataframe thead th {\n        text-align: right;\n    }\n</style>\n<table border=\"1\" class=\"dataframe\">\n  <thead>\n    <tr style=\"text-align: right;\">\n      <th></th>\n      <th></th>\n      <th>price</th>\n      <th>quantity</th>\n    </tr>\n    <tr>\n      <th>payment_month</th>\n      <th>item_name</th>\n      <th></th>\n      <th></th>\n    </tr>\n  </thead>\n  <tbody>\n    <tr>\n      <th rowspan=\"5\" valign=\"top\">201902</th>\n      <th>PC-A</th>\n      <td>24150000</td>\n      <td>483</td>\n    </tr>\n    <tr>\n      <th>PC-B</th>\n      <td>25245000</td>\n      <td>297</td>\n    </tr>\n    <tr>\n      <th>PC-C</th>\n      <td>19800000</td>\n      <td>165</td>\n    </tr>\n    <tr>\n      <th>PC-D</th>\n      <td>31140000</td>\n      <td>173</td>\n    </tr>\n    <tr>\n      <th>PC-E</th>\n      <td>59850000</td>\n      <td>285</td>\n    </tr>\n    <tr>\n      <th rowspan=\"5\" valign=\"top\">201903</th>\n      <th>PC-A</th>\n      <td>26000000</td>\n      <td>520</td>\n    </tr>\n    <tr>\n      <th>PC-B</th>\n      <td>25500000</td>\n      <td>300</td>\n    </tr>\n    <tr>\n      <th>PC-C</th>\n      <td>19080000</td>\n      <td>159</td>\n    </tr>\n    <tr>\n      <th>PC-D</th>\n      <td>25740000</td>\n      <td>143</td>\n    </tr>\n    <tr>\n      <th>PC-E</th>\n      <td>64050000</td>\n      <td>305</td>\n    </tr>\n    <tr>\n      <th rowspan=\"5\" valign=\"top\">201904</th>\n      <th>PC-A</th>\n      <td>25900000</td>\n      <td>518</td>\n    </tr>\n    <tr>\n      <th>PC-B</th>\n      <td>23460000</td>\n      <td>276</td>\n    </tr>\n    <tr>\n      <th>PC-C</th>\n      <td>21960000</td>\n      <td>183</td>\n    </tr>\n    <tr>\n      <th>PC-D</th>\n      <td>24300000</td>\n      <td>135</td>\n    </tr>\n    <tr>\n      <th>PC-E</th>\n      <td>64890000</td>\n      <td>309</td>\n    </tr>\n    <tr>\n      <th rowspan=\"5\" valign=\"top\">201905</th>\n      <th>PC-A</th>\n      <td>24850000</td>\n      <td>497</td>\n    </tr>\n    <tr>\n      <th>PC-B</th>\n      <td>25330000</td>\n      <td>298</td>\n    </tr>\n    <tr>\n      <th>PC-C</th>\n      <td>20520000</td>\n      <td>171</td>\n    </tr>\n    <tr>\n      <th>PC-D</th>\n      <td>25920000</td>\n      <td>144</td>\n    </tr>\n    <tr>\n      <th>PC-E</th>\n      <td>58800000</td>\n      <td>280</td>\n    </tr>\n    <tr>\n      <th rowspan=\"5\" valign=\"top\">201906</th>\n      <th>PC-A</th>\n      <td>7000000</td>\n      <td>140</td>\n    </tr>\n    <tr>\n      <th>PC-B</th>\n      <td>5610000</td>\n      <td>66</td>\n    </tr>\n    <tr>\n      <th>PC-C</th>\n      <td>4320000</td>\n      <td>36</td>\n    </tr>\n    <tr>\n      <th>PC-D</th>\n      <td>8280000</td>\n      <td>46</td>\n    </tr>\n    <tr>\n      <th>PC-E</th>\n      <td>14070000</td>\n      <td>67</td>\n    </tr>\n  </tbody>\n</table>\n</div>"
     },
     "metadata": {},
     "execution_count": 36
    }
   ],
   "source": [
    "join_data.groupby([\"payment_month\", \"item_name\"]).sum()[[\"price\", \"quantity\"]]"
   ]
  },
  {
   "cell_type": "code",
   "execution_count": 37,
   "metadata": {},
   "outputs": [
    {
     "output_type": "execute_result",
     "data": {
      "text/plain": "                  price                                         quantity  \\\npayment_month    201902    201903    201904    201905    201906   201902   \nitem_name                                                                  \nPC-A           24150000  26000000  25900000  24850000   7000000      483   \nPC-B           25245000  25500000  23460000  25330000   5610000      297   \nPC-C           19800000  19080000  21960000  20520000   4320000      165   \nPC-D           31140000  25740000  24300000  25920000   8280000      173   \nPC-E           59850000  64050000  64890000  58800000  14070000      285   \n\n                                           \npayment_month 201903 201904 201905 201906  \nitem_name                                  \nPC-A             520    518    497    140  \nPC-B             300    276    298     66  \nPC-C             159    183    171     36  \nPC-D             143    135    144     46  \nPC-E             305    309    280     67  ",
      "text/html": "<div>\n<style scoped>\n    .dataframe tbody tr th:only-of-type {\n        vertical-align: middle;\n    }\n\n    .dataframe tbody tr th {\n        vertical-align: top;\n    }\n\n    .dataframe thead tr th {\n        text-align: left;\n    }\n\n    .dataframe thead tr:last-of-type th {\n        text-align: right;\n    }\n</style>\n<table border=\"1\" class=\"dataframe\">\n  <thead>\n    <tr>\n      <th></th>\n      <th colspan=\"5\" halign=\"left\">price</th>\n      <th colspan=\"5\" halign=\"left\">quantity</th>\n    </tr>\n    <tr>\n      <th>payment_month</th>\n      <th>201902</th>\n      <th>201903</th>\n      <th>201904</th>\n      <th>201905</th>\n      <th>201906</th>\n      <th>201902</th>\n      <th>201903</th>\n      <th>201904</th>\n      <th>201905</th>\n      <th>201906</th>\n    </tr>\n    <tr>\n      <th>item_name</th>\n      <th></th>\n      <th></th>\n      <th></th>\n      <th></th>\n      <th></th>\n      <th></th>\n      <th></th>\n      <th></th>\n      <th></th>\n      <th></th>\n    </tr>\n  </thead>\n  <tbody>\n    <tr>\n      <th>PC-A</th>\n      <td>24150000</td>\n      <td>26000000</td>\n      <td>25900000</td>\n      <td>24850000</td>\n      <td>7000000</td>\n      <td>483</td>\n      <td>520</td>\n      <td>518</td>\n      <td>497</td>\n      <td>140</td>\n    </tr>\n    <tr>\n      <th>PC-B</th>\n      <td>25245000</td>\n      <td>25500000</td>\n      <td>23460000</td>\n      <td>25330000</td>\n      <td>5610000</td>\n      <td>297</td>\n      <td>300</td>\n      <td>276</td>\n      <td>298</td>\n      <td>66</td>\n    </tr>\n    <tr>\n      <th>PC-C</th>\n      <td>19800000</td>\n      <td>19080000</td>\n      <td>21960000</td>\n      <td>20520000</td>\n      <td>4320000</td>\n      <td>165</td>\n      <td>159</td>\n      <td>183</td>\n      <td>171</td>\n      <td>36</td>\n    </tr>\n    <tr>\n      <th>PC-D</th>\n      <td>31140000</td>\n      <td>25740000</td>\n      <td>24300000</td>\n      <td>25920000</td>\n      <td>8280000</td>\n      <td>173</td>\n      <td>143</td>\n      <td>135</td>\n      <td>144</td>\n      <td>46</td>\n    </tr>\n    <tr>\n      <th>PC-E</th>\n      <td>59850000</td>\n      <td>64050000</td>\n      <td>64890000</td>\n      <td>58800000</td>\n      <td>14070000</td>\n      <td>285</td>\n      <td>305</td>\n      <td>309</td>\n      <td>280</td>\n      <td>67</td>\n    </tr>\n  </tbody>\n</table>\n</div>"
     },
     "metadata": {},
     "execution_count": 37
    }
   ],
   "source": [
    "pd.pivot_table(join_data, index=\"item_name\", columns=\"payment_month\", values=[\"price\", \"quantity\"], aggfunc=\"sum\")"
   ]
  },
  {
   "cell_type": "markdown",
   "metadata": {},
   "source": [
    "### ノック10：商品別の売上推移を可視化してみよう"
   ]
  },
  {
   "cell_type": "code",
   "execution_count": 38,
   "metadata": {},
   "outputs": [
    {
     "output_type": "execute_result",
     "data": {
      "text/plain": "item_name          PC-A      PC-B      PC-C      PC-D      PC-E\npayment_month                                                  \n201902         24150000  25245000  19800000  31140000  59850000\n201903         26000000  25500000  19080000  25740000  64050000\n201904         25900000  23460000  21960000  24300000  64890000\n201905         24850000  25330000  20520000  25920000  58800000\n201906          7000000   5610000   4320000   8280000  14070000",
      "text/html": "<div>\n<style scoped>\n    .dataframe tbody tr th:only-of-type {\n        vertical-align: middle;\n    }\n\n    .dataframe tbody tr th {\n        vertical-align: top;\n    }\n\n    .dataframe thead th {\n        text-align: right;\n    }\n</style>\n<table border=\"1\" class=\"dataframe\">\n  <thead>\n    <tr style=\"text-align: right;\">\n      <th>item_name</th>\n      <th>PC-A</th>\n      <th>PC-B</th>\n      <th>PC-C</th>\n      <th>PC-D</th>\n      <th>PC-E</th>\n    </tr>\n    <tr>\n      <th>payment_month</th>\n      <th></th>\n      <th></th>\n      <th></th>\n      <th></th>\n      <th></th>\n    </tr>\n  </thead>\n  <tbody>\n    <tr>\n      <th>201902</th>\n      <td>24150000</td>\n      <td>25245000</td>\n      <td>19800000</td>\n      <td>31140000</td>\n      <td>59850000</td>\n    </tr>\n    <tr>\n      <th>201903</th>\n      <td>26000000</td>\n      <td>25500000</td>\n      <td>19080000</td>\n      <td>25740000</td>\n      <td>64050000</td>\n    </tr>\n    <tr>\n      <th>201904</th>\n      <td>25900000</td>\n      <td>23460000</td>\n      <td>21960000</td>\n      <td>24300000</td>\n      <td>64890000</td>\n    </tr>\n    <tr>\n      <th>201905</th>\n      <td>24850000</td>\n      <td>25330000</td>\n      <td>20520000</td>\n      <td>25920000</td>\n      <td>58800000</td>\n    </tr>\n    <tr>\n      <th>201906</th>\n      <td>7000000</td>\n      <td>5610000</td>\n      <td>4320000</td>\n      <td>8280000</td>\n      <td>14070000</td>\n    </tr>\n  </tbody>\n</table>\n</div>"
     },
     "metadata": {},
     "execution_count": 38
    }
   ],
   "source": [
    "graph_data = pd.pivot_table(join_data, index=\"payment_month\", columns=\"item_name\", values=\"price\", aggfunc=\"sum\")\n",
    "graph_data.head()"
   ]
  },
  {
   "cell_type": "code",
   "execution_count": 41,
   "metadata": {},
   "outputs": [
    {
     "output_type": "execute_result",
     "data": {
      "text/plain": "<matplotlib.legend.Legend at 0x12206e210>"
     },
     "metadata": {},
     "execution_count": 41
    },
    {
     "output_type": "display_data",
     "data": {
      "text/plain": "<Figure size 432x288 with 1 Axes>",
      "image/svg+xml": "<?xml version=\"1.0\" encoding=\"utf-8\" standalone=\"no\"?>\n<!DOCTYPE svg PUBLIC \"-//W3C//DTD SVG 1.1//EN\"\n  \"http://www.w3.org/Graphics/SVG/1.1/DTD/svg11.dtd\">\n<!-- Created with matplotlib (https://matplotlib.org/) -->\n<svg height=\"259.241562pt\" version=\"1.1\" viewBox=\"0 0 368.181818 259.241562\" width=\"368.181818pt\" xmlns=\"http://www.w3.org/2000/svg\" xmlns:xlink=\"http://www.w3.org/1999/xlink\">\n <defs>\n  <style type=\"text/css\">\n*{stroke-linecap:butt;stroke-linejoin:round;}\n  </style>\n </defs>\n <g id=\"figure_1\">\n  <g id=\"patch_1\">\n   <path d=\"M 0 259.241562 \nL 368.181818 259.241562 \nL 368.181818 0 \nL 0 0 \nz\n\" style=\"fill:none;\"/>\n  </g>\n  <g id=\"axes_1\">\n   <g id=\"patch_2\">\n    <path d=\"M 21 235.480625 \nL 355.8 235.480625 \nL 355.8 18.040625 \nL 21 18.040625 \nz\n\" style=\"fill:#ffffff;\"/>\n   </g>\n   <g id=\"matplotlib.axis_1\">\n    <g id=\"xtick_1\">\n     <g id=\"line2d_1\">\n      <defs>\n       <path d=\"M 0 0 \nL 0 3.5 \n\" id=\"m79e4e8ee88\" style=\"stroke:#000000;stroke-width:0.8;\"/>\n      </defs>\n      <g>\n       <use style=\"stroke:#000000;stroke-width:0.8;\" x=\"36.218182\" xlink:href=\"#m79e4e8ee88\" y=\"235.480625\"/>\n      </g>\n     </g>\n     <g id=\"text_1\">\n      <!-- 201902 -->\n      <defs>\n       <path d=\"M 17.203125 6.703125 \nL 61.59375 6.703125 \nL 61.59375 0 \nL 10.203125 0 \nL 10.203125 3.203125 \nQ 10.203125 15.90625 21 26 \nQ 26.09375 29.59375 31.09375 33.1875 \nQ 36.09375 36.796875 41.203125 40.5 \nQ 52.09375 48.40625 52.09375 56.203125 \nQ 52.09375 62.40625 47.09375 65.90625 \nQ 44.796875 67.59375 42.09375 68.390625 \nQ 39.40625 69.203125 36.203125 69.203125 \nQ 31.5 69.203125 27.203125 68 \nQ 20.703125 66 13.796875 61.09375 \nL 13.796875 69.296875 \nQ 20.703125 72.796875 26.046875 74.34375 \nQ 31.40625 75.90625 36.203125 75.90625 \nQ 46.296875 75.90625 53.203125 70.703125 \nQ 60 65.59375 60 56.59375 \nQ 60 46.796875 49.5 38.09375 \nQ 44.5 34.59375 39.546875 31.25 \nQ 34.59375 27.90625 29.59375 24.40625 \nQ 18.40625 16 17.203125 6.703125 \nz\n\" id=\"AppleGothic-50\"/>\n       <path d=\"M 34.796875 -1.296875 \nQ 22.09375 -1.296875 14.59375 9 \nQ 7.203125 19.203125 7.203125 37.296875 \nQ 7.203125 55.5 15.203125 65.90625 \nQ 22.703125 75.90625 34.703125 75.90625 \nQ 47.296875 75.90625 54.40625 65.203125 \nQ 61.796875 54.59375 61.796875 37.40625 \nQ 61.796875 19.5 54.09375 9.09375 \nQ 46.5 -1.296875 34.796875 -1.296875 \nz\nM 34 5.40625 \nQ 44.703125 5.40625 50 15.5 \nQ 54.09375 24 54.09375 37.5 \nQ 54.09375 51.796875 49.40625 60.296875 \nQ 44.09375 69.203125 34.59375 69.203125 \nQ 24.59375 69.203125 19.5 59.703125 \nQ 15 51.296875 15 37.09375 \nQ 15 23.09375 19.5 14.703125 \nQ 24.59375 5.40625 34 5.40625 \nz\n\" id=\"AppleGothic-48\"/>\n       <path d=\"M 36.59375 74.59375 \nL 43 74.59375 \nL 43 0 \nL 35.703125 0 \nL 35.703125 55.09375 \nL 18.09375 55.09375 \nL 18.09375 60.703125 \nL 22.09375 60.703125 \nQ 31.09375 60.703125 34.59375 65.703125 \nQ 36.59375 68.90625 36.59375 74.59375 \nz\n\" id=\"AppleGothic-49\"/>\n       <path d=\"M 14.5 3.296875 \nL 14.5 11.90625 \nQ 16.40625 10.5 18.046875 9.390625 \nQ 19.703125 8.296875 21.296875 7.5 \nQ 26.59375 5 31.5 5 \nQ 35.796875 5 39.703125 6.796875 \nQ 42.796875 8.203125 45.4375 10.546875 \nQ 48.09375 12.90625 50.203125 16.203125 \nQ 54 22 55.5 28.796875 \nQ 56.5 33.5 56.5 40.203125 \nQ 51.796875 35.5 47.90625 33.203125 \nQ 40.703125 28.90625 32.703125 28.90625 \nQ 22.796875 28.90625 16.203125 34.59375 \nQ 9.203125 40.59375 9.203125 51.09375 \nQ 9.203125 62.296875 16.90625 69 \nQ 24.203125 75.5 34.90625 75.5 \nQ 46.40625 75.5 54.59375 67.203125 \nQ 64.40625 57.203125 64.40625 39.5 \nQ 64.40625 20.703125 54.296875 9.09375 \nQ 44.90625 -1.703125 31.796875 -1.703125 \nQ 26.90625 -1.703125 21.203125 0.296875 \nQ 19.59375 0.796875 17.9375 1.59375 \nQ 16.296875 2.40625 14.5 3.296875 \nz\nM 55.90625 47.90625 \nQ 54.09375 58.09375 47.703125 63.703125 \nQ 41.796875 68.796875 34.796875 68.796875 \nQ 26.796875 68.796875 21.90625 63.796875 \nQ 16.90625 58.59375 16.90625 51.59375 \nQ 16.90625 44.703125 21.40625 40.09375 \nQ 25.90625 35.59375 33.203125 35.59375 \nQ 40.203125 35.59375 45.546875 38.640625 \nQ 50.90625 41.703125 55.90625 47.90625 \nz\n\" id=\"AppleGothic-57\"/>\n      </defs>\n      <g transform=\"translate(15.818182 250.32125)scale(0.1 -0.1)\">\n       <use xlink:href=\"#AppleGothic-50\"/>\n       <use x=\"67.999985\" xlink:href=\"#AppleGothic-48\"/>\n       <use x=\"135.999969\" xlink:href=\"#AppleGothic-49\"/>\n       <use x=\"203.999954\" xlink:href=\"#AppleGothic-57\"/>\n       <use x=\"271.999939\" xlink:href=\"#AppleGothic-48\"/>\n       <use x=\"339.999924\" xlink:href=\"#AppleGothic-50\"/>\n      </g>\n     </g>\n    </g>\n    <g id=\"xtick_2\">\n     <g id=\"line2d_2\">\n      <g>\n       <use style=\"stroke:#000000;stroke-width:0.8;\" x=\"112.309091\" xlink:href=\"#m79e4e8ee88\" y=\"235.480625\"/>\n      </g>\n     </g>\n     <g id=\"text_2\">\n      <!-- 201903 -->\n      <defs>\n       <path d=\"M 8.59375 5.203125 \nL 8.59375 13.59375 \nQ 13.796875 9.703125 19.296875 7.546875 \nQ 24.796875 5.40625 30.796875 5.40625 \nQ 39.40625 5.40625 44.703125 10.40625 \nQ 50.296875 15.5 50.296875 22.203125 \nQ 50.296875 29.203125 44.40625 32.796875 \nQ 39.296875 36 30.703125 36 \nL 15.5 36 \nL 15.5 42.203125 \nL 25.90625 42.203125 \nQ 35.90625 42.203125 41.59375 45.75 \nQ 47.296875 49.296875 47.296875 56 \nQ 47.296875 61.5 43 65.203125 \nQ 38.40625 69.203125 30.90625 69.203125 \nQ 27.90625 69.203125 24.953125 68.640625 \nQ 22 68.09375 19.09375 66.90625 \nQ 13.90625 64.703125 8.296875 60.5 \nL 8.296875 69.09375 \nQ 11.5 70.796875 14.25 72 \nQ 17 73.203125 19.59375 74 \nQ 25.40625 75.90625 31.59375 75.90625 \nQ 41.40625 75.90625 47.90625 70.796875 \nQ 54.5 65.796875 54.5 56.90625 \nQ 54.5 49.5 49.5 44.703125 \nQ 46.5 41.796875 41.296875 39.90625 \nQ 44.90625 39.40625 47.703125 38.25 \nQ 50.5 37.09375 52.59375 35.40625 \nQ 58.09375 30.796875 58.09375 22.40625 \nQ 58.09375 12.703125 50.296875 5.703125 \nQ 42.40625 -1.296875 30.703125 -1.296875 \nQ 24.203125 -1.296875 17.59375 1.09375 \nQ 16 1.59375 13.75 2.59375 \nQ 11.5 3.59375 8.59375 5.203125 \nz\n\" id=\"AppleGothic-51\"/>\n      </defs>\n      <g transform=\"translate(91.909091 250.32125)scale(0.1 -0.1)\">\n       <use xlink:href=\"#AppleGothic-50\"/>\n       <use x=\"67.999985\" xlink:href=\"#AppleGothic-48\"/>\n       <use x=\"135.999969\" xlink:href=\"#AppleGothic-49\"/>\n       <use x=\"203.999954\" xlink:href=\"#AppleGothic-57\"/>\n       <use x=\"271.999939\" xlink:href=\"#AppleGothic-48\"/>\n       <use x=\"339.999924\" xlink:href=\"#AppleGothic-51\"/>\n      </g>\n     </g>\n    </g>\n    <g id=\"xtick_3\">\n     <g id=\"line2d_3\">\n      <g>\n       <use style=\"stroke:#000000;stroke-width:0.8;\" x=\"188.4\" xlink:href=\"#m79e4e8ee88\" y=\"235.480625\"/>\n      </g>\n     </g>\n     <g id=\"text_3\">\n      <!-- 201904 -->\n      <defs>\n       <path d=\"M 41.59375 74.59375 \nL 48.90625 74.59375 \nL 48.90625 28.296875 \nL 62.5 28.296875 \nL 62.5 21.59375 \nL 48.90625 21.59375 \nL 48.90625 0 \nL 41.59375 0 \nL 41.59375 21.59375 \nL 5.5 21.59375 \nL 5.5 28.296875 \nz\nM 41.59375 28.296875 \nL 41.59375 65.09375 \nL 13.09375 28.296875 \nz\n\" id=\"AppleGothic-52\"/>\n      </defs>\n      <g transform=\"translate(168 250.32125)scale(0.1 -0.1)\">\n       <use xlink:href=\"#AppleGothic-50\"/>\n       <use x=\"67.999985\" xlink:href=\"#AppleGothic-48\"/>\n       <use x=\"135.999969\" xlink:href=\"#AppleGothic-49\"/>\n       <use x=\"203.999954\" xlink:href=\"#AppleGothic-57\"/>\n       <use x=\"271.999939\" xlink:href=\"#AppleGothic-48\"/>\n       <use x=\"339.999924\" xlink:href=\"#AppleGothic-52\"/>\n      </g>\n     </g>\n    </g>\n    <g id=\"xtick_4\">\n     <g id=\"line2d_4\">\n      <g>\n       <use style=\"stroke:#000000;stroke-width:0.8;\" x=\"264.490909\" xlink:href=\"#m79e4e8ee88\" y=\"235.480625\"/>\n      </g>\n     </g>\n     <g id=\"text_4\">\n      <!-- 201905 -->\n      <defs>\n       <path d=\"M 9.703125 74.5 \nL 54.5 74.5 \nL 54.5 67.796875 \nL 17 67.796875 \nL 17 42.296875 \nQ 18.5 43.296875 20.203125 44.046875 \nQ 21.90625 44.796875 23.59375 45.5 \nQ 29.09375 47.5 35.296875 47.5 \nQ 46.703125 47.5 53.5 40.703125 \nQ 59.796875 34.40625 59.796875 24.703125 \nQ 59.796875 13.59375 51.5 6.203125 \nQ 43.203125 -1.296875 31.40625 -1.296875 \nQ 25.796875 -1.296875 19.5 0.703125 \nQ 18.09375 1.203125 15.640625 2.140625 \nQ 13.203125 3.09375 9.703125 4.703125 \nL 9.703125 13.09375 \nQ 14.5 10 18.796875 8.203125 \nQ 22 6.796875 25.203125 6.09375 \nQ 28.40625 5.40625 31.40625 5.40625 \nQ 39.5 5.40625 45.40625 10.40625 \nQ 51.90625 15.796875 51.90625 24 \nQ 51.90625 31.09375 47.203125 35.796875 \nQ 42.203125 40.796875 33.5 40.796875 \nQ 29 40.796875 24.796875 39.5 \nQ 20.59375 38.203125 17 35.5 \nL 9.703125 35.5 \nz\n\" id=\"AppleGothic-53\"/>\n      </defs>\n      <g transform=\"translate(244.090909 250.32125)scale(0.1 -0.1)\">\n       <use xlink:href=\"#AppleGothic-50\"/>\n       <use x=\"67.999985\" xlink:href=\"#AppleGothic-48\"/>\n       <use x=\"135.999969\" xlink:href=\"#AppleGothic-49\"/>\n       <use x=\"203.999954\" xlink:href=\"#AppleGothic-57\"/>\n       <use x=\"271.999939\" xlink:href=\"#AppleGothic-48\"/>\n       <use x=\"339.999924\" xlink:href=\"#AppleGothic-53\"/>\n      </g>\n     </g>\n    </g>\n    <g id=\"xtick_5\">\n     <g id=\"line2d_5\">\n      <g>\n       <use style=\"stroke:#000000;stroke-width:0.8;\" x=\"340.581818\" xlink:href=\"#m79e4e8ee88\" y=\"235.480625\"/>\n      </g>\n     </g>\n     <g id=\"text_5\">\n      <!-- 201906 -->\n      <defs>\n       <path d=\"M 57.796875 71.203125 \nL 57.796875 62.703125 \nQ 56 64.09375 54.296875 65.046875 \nQ 52.59375 66 50.90625 66.796875 \nQ 48.203125 68.09375 45.59375 68.640625 \nQ 43 69.203125 40.40625 69.203125 \nQ 38.59375 69.203125 36.75 68.890625 \nQ 34.90625 68.59375 33.09375 67.796875 \nQ 26.09375 64.90625 21.796875 58.40625 \nQ 15.796875 49.203125 15.796875 34.203125 \nQ 20.5 38.90625 24.5 41.5 \nQ 31.59375 45.796875 39.59375 45.796875 \nQ 49.40625 45.796875 56 40.09375 \nQ 63.09375 33.796875 63.09375 23.296875 \nQ 63.09375 12.59375 55.59375 5.59375 \nQ 48.09375 -1.296875 37.40625 -1.296875 \nQ 26.09375 -1.296875 17.90625 7.09375 \nQ 8.09375 17 8.09375 35.203125 \nQ 8.09375 53.296875 17.5 64.59375 \nQ 26.796875 75.90625 40.703125 75.90625 \nQ 45.90625 75.90625 50.40625 74.40625 \nQ 51.703125 73.90625 53.546875 73.15625 \nQ 55.40625 72.40625 57.796875 71.203125 \nz\nM 16.59375 26.59375 \nQ 18 18 23.40625 12 \nQ 29.40625 5.40625 37.796875 5.40625 \nQ 45.296875 5.40625 50.203125 10.296875 \nQ 55.296875 15.203125 55.296875 22.796875 \nQ 55.296875 30 50.40625 34.59375 \nQ 45.59375 39.09375 39 39.09375 \nQ 31.09375 39.09375 24.09375 34 \nQ 22.09375 32.5 20.1875 30.703125 \nQ 18.296875 28.90625 16.59375 26.59375 \nz\n\" id=\"AppleGothic-54\"/>\n      </defs>\n      <g transform=\"translate(320.181818 250.32125)scale(0.1 -0.1)\">\n       <use xlink:href=\"#AppleGothic-50\"/>\n       <use x=\"67.999985\" xlink:href=\"#AppleGothic-48\"/>\n       <use x=\"135.999969\" xlink:href=\"#AppleGothic-49\"/>\n       <use x=\"203.999954\" xlink:href=\"#AppleGothic-57\"/>\n       <use x=\"271.999939\" xlink:href=\"#AppleGothic-48\"/>\n       <use x=\"339.999924\" xlink:href=\"#AppleGothic-54\"/>\n      </g>\n     </g>\n    </g>\n   </g>\n   <g id=\"matplotlib.axis_2\">\n    <g id=\"ytick_1\">\n     <g id=\"line2d_6\">\n      <defs>\n       <path d=\"M 0 0 \nL -3.5 0 \n\" id=\"mf14baa460d\" style=\"stroke:#000000;stroke-width:0.8;\"/>\n      </defs>\n      <g>\n       <use style=\"stroke:#000000;stroke-width:0.8;\" x=\"21\" xlink:href=\"#mf14baa460d\" y=\"207.060071\"/>\n      </g>\n     </g>\n     <g id=\"text_6\">\n      <!-- 1 -->\n      <g transform=\"translate(7.2 210.980384)scale(0.1 -0.1)\">\n       <use xlink:href=\"#AppleGothic-49\"/>\n      </g>\n     </g>\n    </g>\n    <g id=\"ytick_2\">\n     <g id=\"line2d_7\">\n      <g>\n       <use style=\"stroke:#000000;stroke-width:0.8;\" x=\"21\" xlink:href=\"#mf14baa460d\" y=\"174.424653\"/>\n      </g>\n     </g>\n     <g id=\"text_7\">\n      <!-- 2 -->\n      <g transform=\"translate(7.2 178.344966)scale(0.1 -0.1)\">\n       <use xlink:href=\"#AppleGothic-50\"/>\n      </g>\n     </g>\n    </g>\n    <g id=\"ytick_3\">\n     <g id=\"line2d_8\">\n      <g>\n       <use style=\"stroke:#000000;stroke-width:0.8;\" x=\"21\" xlink:href=\"#mf14baa460d\" y=\"141.789235\"/>\n      </g>\n     </g>\n     <g id=\"text_8\">\n      <!-- 3 -->\n      <g transform=\"translate(7.2 145.709548)scale(0.1 -0.1)\">\n       <use xlink:href=\"#AppleGothic-51\"/>\n      </g>\n     </g>\n    </g>\n    <g id=\"ytick_4\">\n     <g id=\"line2d_9\">\n      <g>\n       <use style=\"stroke:#000000;stroke-width:0.8;\" x=\"21\" xlink:href=\"#mf14baa460d\" y=\"109.153817\"/>\n      </g>\n     </g>\n     <g id=\"text_9\">\n      <!-- 4 -->\n      <g transform=\"translate(7.2 113.074129)scale(0.1 -0.1)\">\n       <use xlink:href=\"#AppleGothic-52\"/>\n      </g>\n     </g>\n    </g>\n    <g id=\"ytick_5\">\n     <g id=\"line2d_10\">\n      <g>\n       <use style=\"stroke:#000000;stroke-width:0.8;\" x=\"21\" xlink:href=\"#mf14baa460d\" y=\"76.518399\"/>\n      </g>\n     </g>\n     <g id=\"text_10\">\n      <!-- 5 -->\n      <g transform=\"translate(7.2 80.438711)scale(0.1 -0.1)\">\n       <use xlink:href=\"#AppleGothic-53\"/>\n      </g>\n     </g>\n    </g>\n    <g id=\"ytick_6\">\n     <g id=\"line2d_11\">\n      <g>\n       <use style=\"stroke:#000000;stroke-width:0.8;\" x=\"21\" xlink:href=\"#mf14baa460d\" y=\"43.882981\"/>\n      </g>\n     </g>\n     <g id=\"text_11\">\n      <!-- 6 -->\n      <g transform=\"translate(7.2 47.803293)scale(0.1 -0.1)\">\n       <use xlink:href=\"#AppleGothic-54\"/>\n      </g>\n     </g>\n    </g>\n    <g id=\"text_12\">\n     <!-- 1e7 -->\n     <defs>\n      <path d=\"M 51.5 28.90625 \nL 10.796875 28.90625 \nQ 10.796875 17.40625 16.140625 11.34375 \nQ 21.5 5.296875 30.203125 5.296875 \nQ 36.796875 5.296875 42.90625 9.5 \nQ 44.59375 10.59375 46.5 12.25 \nQ 48.40625 13.90625 50.59375 16.09375 \nL 50.59375 7.40625 \nQ 48.203125 5.59375 46.140625 4.25 \nQ 44.09375 2.90625 42.296875 2 \nQ 36 -1.296875 29.703125 -1.296875 \nQ 18.796875 -1.296875 11.203125 6.203125 \nQ 3 14.09375 3 26.703125 \nQ 3 38.59375 10.40625 46.59375 \nQ 17.90625 54.703125 28.90625 54.703125 \nQ 39.59375 54.703125 45.90625 46.90625 \nQ 51.5 39.796875 51.5 28.90625 \nz\nM 11.796875 35 \nL 43.09375 35 \nQ 41.90625 41.796875 37.953125 45.140625 \nQ 34 48.5 28.40625 48.5 \nQ 22.203125 48.5 17.90625 44.59375 \nQ 13.90625 41 11.796875 35 \nz\n\" id=\"AppleGothic-101\"/>\n      <path d=\"M 9.296875 74.59375 \nL 59.40625 74.59375 \nL 59.40625 68.90625 \nL 27.09375 0 \nL 19.296875 0 \nL 51.203125 68 \nL 9.296875 68 \nz\n\" id=\"AppleGothic-55\"/>\n     </defs>\n     <g transform=\"translate(21 15.040625)scale(0.1 -0.1)\">\n      <use xlink:href=\"#AppleGothic-49\"/>\n      <use x=\"67.999985\" xlink:href=\"#AppleGothic-101\"/>\n      <use x=\"122.899979\" xlink:href=\"#AppleGothic-55\"/>\n     </g>\n    </g>\n   </g>\n   <g id=\"line2d_12\">\n    <path clip-path=\"url(#pc00862a60b)\" d=\"M 36.218182 160.880955 \nL 112.309091 154.843402 \nL 188.4 155.169756 \nL 264.490909 158.596475 \nL 340.581818 216.850697 \n\" style=\"fill:none;stroke:#1f77b4;stroke-linecap:square;stroke-width:1.5;\"/>\n   </g>\n   <g id=\"line2d_13\">\n    <path clip-path=\"url(#pc00862a60b)\" d=\"M 36.218182 157.307376 \nL 112.309091 156.475173 \nL 188.4 163.132798 \nL 264.490909 157.029975 \nL 340.581818 221.38702 \n\" style=\"fill:none;stroke:#ff7f0e;stroke-linecap:square;stroke-width:1.5;\"/>\n   </g>\n   <g id=\"line2d_14\">\n    <path clip-path=\"url(#pc00862a60b)\" d=\"M 36.218182 175.077361 \nL 112.309091 177.427112 \nL 188.4 168.028111 \nL 264.490909 172.727611 \nL 340.581818 225.596989 \n\" style=\"fill:none;stroke:#2ca02c;stroke-linecap:square;stroke-width:1.5;\"/>\n   </g>\n   <g id=\"line2d_15\">\n    <path clip-path=\"url(#pc00862a60b)\" d=\"M 36.218182 138.068797 \nL 112.309091 155.691923 \nL 188.4 160.391423 \nL 264.490909 155.104486 \nL 340.581818 212.673363 \n\" style=\"fill:none;stroke:#d62728;stroke-linecap:square;stroke-width:1.5;\"/>\n   </g>\n   <g id=\"line2d_16\">\n    <path clip-path=\"url(#pc00862a60b)\" d=\"M 36.218182 44.372512 \nL 112.309091 30.665636 \nL 188.4 27.924261 \nL 264.490909 47.799231 \nL 340.581818 193.777456 \n\" style=\"fill:none;stroke:#9467bd;stroke-linecap:square;stroke-width:1.5;\"/>\n   </g>\n   <g id=\"patch_3\">\n    <path d=\"M 21 235.480625 \nL 21 18.040625 \n\" style=\"fill:none;stroke:#000000;stroke-linecap:square;stroke-linejoin:miter;stroke-width:0.8;\"/>\n   </g>\n   <g id=\"patch_4\">\n    <path d=\"M 355.8 235.480625 \nL 355.8 18.040625 \n\" style=\"fill:none;stroke:#000000;stroke-linecap:square;stroke-linejoin:miter;stroke-width:0.8;\"/>\n   </g>\n   <g id=\"patch_5\">\n    <path d=\"M 21 235.480625 \nL 355.8 235.480625 \n\" style=\"fill:none;stroke:#000000;stroke-linecap:square;stroke-linejoin:miter;stroke-width:0.8;\"/>\n   </g>\n   <g id=\"patch_6\">\n    <path d=\"M 21 18.040625 \nL 355.8 18.040625 \n\" style=\"fill:none;stroke:#000000;stroke-linecap:square;stroke-linejoin:miter;stroke-width:0.8;\"/>\n   </g>\n   <g id=\"legend_1\">\n    <g id=\"patch_7\">\n     <path d=\"M 291.660938 98.845312 \nL 348.8 98.845312 \nQ 350.8 98.845312 350.8 96.845312 \nL 350.8 25.040625 \nQ 350.8 23.040625 348.8 23.040625 \nL 291.660938 23.040625 \nQ 289.660938 23.040625 289.660938 25.040625 \nL 289.660938 96.845312 \nQ 289.660938 98.845312 291.660938 98.845312 \nz\n\" style=\"fill:#ffffff;opacity:0.8;stroke:#cccccc;stroke-linejoin:miter;\"/>\n    </g>\n    <g id=\"line2d_17\">\n     <path d=\"M 293.660938 31.38125 \nL 313.660938 31.38125 \n\" style=\"fill:none;stroke:#1f77b4;stroke-linecap:square;stroke-width:1.5;\"/>\n    </g>\n    <g id=\"line2d_18\"/>\n    <g id=\"text_13\">\n     <!-- PC-A -->\n     <defs>\n      <path d=\"M 4.09375 78.40625 \nL 29.203125 78.40625 \nQ 40 78.40625 46.90625 74.703125 \nQ 56.203125 69.5 56.203125 58.09375 \nQ 56.203125 47.09375 48.5 41.09375 \nQ 41.5 35.5 30.5 35.5 \nL 12 35.5 \nL 12 0 \nL 4.09375 0 \nz\nM 29.09375 71.5 \nL 12 71.5 \nL 12 42.40625 \nL 29.703125 42.40625 \nQ 36.703125 42.40625 41.796875 46.09375 \nQ 47.5 50.296875 47.5 57.40625 \nQ 47.5 65.40625 40.796875 68.90625 \nQ 35.90625 71.5 29.09375 71.5 \nz\n\" id=\"AppleGothic-80\"/>\n      <path d=\"M 64.203125 72.203125 \nL 64.203125 62.09375 \nQ 60.5 65.703125 55.703125 68.296875 \nQ 48.203125 72.296875 40.59375 72.296875 \nQ 28.90625 72.296875 20.5 62.40625 \nQ 16.296875 57.5 14.25 51.703125 \nQ 12.203125 45.90625 12.203125 39.296875 \nQ 12.203125 25.796875 20.59375 16.09375 \nQ 28.90625 6.40625 40.796875 6.40625 \nQ 46.40625 6.40625 52.25 8.65625 \nQ 58.09375 10.90625 64.203125 15.59375 \nL 64.203125 5.90625 \nQ 50.796875 -1.296875 39.90625 -1.296875 \nQ 25.796875 -1.296875 15.203125 9.59375 \nQ 3.796875 21.296875 3.796875 38.90625 \nQ 3.796875 56 14.40625 67.796875 \nQ 25.203125 79.703125 41.09375 79.703125 \nQ 47.296875 79.703125 53 77.796875 \nQ 58.703125 75.90625 64.203125 72.203125 \nz\n\" id=\"AppleGothic-67\"/>\n      <path d=\"M 4 30.59375 \nL 36.703125 30.59375 \nL 36.703125 23.296875 \nL 4 23.296875 \nz\n\" id=\"AppleGothic-45\"/>\n      <path d=\"M 32.59375 78.40625 \nL 40.296875 78.40625 \nL 69.5 0 \nL 60.296875 0 \nL 50.90625 26.796875 \nL 21.09375 26.796875 \nL 11.296875 0 \nL 2.59375 0 \nz\nM 48.703125 33.703125 \nL 36.59375 69 \nL 23.5 33.703125 \nz\n\" id=\"AppleGothic-65\"/>\n     </defs>\n     <g transform=\"translate(321.660938 34.88125)scale(0.1 -0.1)\">\n      <use xlink:href=\"#AppleGothic-80\"/>\n      <use x=\"60.299988\" xlink:href=\"#AppleGothic-67\"/>\n      <use x=\"128.799973\" xlink:href=\"#AppleGothic-45\"/>\n      <use x=\"178.799957\" xlink:href=\"#AppleGothic-65\"/>\n     </g>\n    </g>\n    <g id=\"line2d_19\">\n     <path d=\"M 293.660938 45.942187 \nL 313.660938 45.942187 \n\" style=\"fill:none;stroke:#ff7f0e;stroke-linecap:square;stroke-width:1.5;\"/>\n    </g>\n    <g id=\"line2d_20\"/>\n    <g id=\"text_14\">\n     <!-- PC-B -->\n     <defs>\n      <path d=\"M 4.796875 78.40625 \nL 31.703125 78.40625 \nQ 41.796875 78.40625 47.703125 74.296875 \nQ 54.59375 69.40625 54.59375 60.296875 \nQ 54.59375 52.703125 49.703125 47.5 \nQ 48.296875 45.90625 46.25 44.59375 \nQ 44.203125 43.296875 41.59375 42.09375 \nQ 51.90625 40.40625 56.5 34 \nQ 60 29.09375 60 23 \nQ 60 13.09375 52.5 6.5 \nQ 45.296875 0 35 0 \nL 4.796875 0 \nz\nM 31.203125 71.5 \nL 12.703125 71.5 \nL 12.703125 44.59375 \nL 27.59375 44.59375 \nQ 36.59375 44.59375 41.390625 48.640625 \nQ 46.203125 52.703125 46.203125 59.09375 \nQ 46.203125 64.09375 42.796875 67.703125 \nQ 38.703125 71.5 31.203125 71.5 \nz\nM 29.796875 37.703125 \nL 12.703125 37.703125 \nL 12.703125 6.90625 \nL 31.703125 6.90625 \nQ 40.296875 6.90625 45.796875 11.203125 \nQ 51.296875 15.796875 51.296875 22.90625 \nQ 51.296875 30.09375 45.75 33.890625 \nQ 40.203125 37.703125 29.796875 37.703125 \nz\n\" id=\"AppleGothic-66\"/>\n     </defs>\n     <g transform=\"translate(321.660938 49.442187)scale(0.1 -0.1)\">\n      <use xlink:href=\"#AppleGothic-80\"/>\n      <use x=\"60.299988\" xlink:href=\"#AppleGothic-67\"/>\n      <use x=\"128.799973\" xlink:href=\"#AppleGothic-45\"/>\n      <use x=\"178.799957\" xlink:href=\"#AppleGothic-66\"/>\n     </g>\n    </g>\n    <g id=\"line2d_21\">\n     <path d=\"M 293.660938 60.503125 \nL 313.660938 60.503125 \n\" style=\"fill:none;stroke:#2ca02c;stroke-linecap:square;stroke-width:1.5;\"/>\n    </g>\n    <g id=\"line2d_22\"/>\n    <g id=\"text_15\">\n     <!-- PC-C -->\n     <g transform=\"translate(321.660938 64.003125)scale(0.1 -0.1)\">\n      <use xlink:href=\"#AppleGothic-80\"/>\n      <use x=\"60.299988\" xlink:href=\"#AppleGothic-67\"/>\n      <use x=\"128.799973\" xlink:href=\"#AppleGothic-45\"/>\n      <use x=\"178.799957\" xlink:href=\"#AppleGothic-67\"/>\n     </g>\n    </g>\n    <g id=\"line2d_23\">\n     <path d=\"M 293.660938 75.064062 \nL 313.660938 75.064062 \n\" style=\"fill:none;stroke:#d62728;stroke-linecap:square;stroke-width:1.5;\"/>\n    </g>\n    <g id=\"line2d_24\"/>\n    <g id=\"text_16\">\n     <!-- PC-D -->\n     <defs>\n      <path d=\"M 5.59375 78.5 \nL 24.40625 78.5 \nQ 34.796875 78.5 41.796875 75.90625 \nQ 44.703125 74.796875 47.296875 73.140625 \nQ 49.90625 71.5 52.203125 69.203125 \nQ 57.703125 63.703125 60.59375 56 \nQ 63.5 48.296875 63.5 39.90625 \nQ 63.5 21.203125 52.796875 10.5 \nQ 42 0 23.203125 0 \nL 5.59375 0 \nz\nM 21.296875 71.59375 \nL 13.5 71.59375 \nL 13.5 6.90625 \nL 26.40625 6.90625 \nQ 37.703125 6.90625 45.5 14.703125 \nQ 54.59375 23.796875 54.59375 40 \nQ 54.59375 43.203125 54.25 46 \nQ 53.90625 48.796875 53.203125 51.40625 \nQ 51 59 45.40625 64.40625 \nQ 41.296875 68.296875 35.90625 70 \nQ 30.703125 71.59375 21.296875 71.59375 \nz\n\" id=\"AppleGothic-68\"/>\n     </defs>\n     <g transform=\"translate(321.660938 78.564062)scale(0.1 -0.1)\">\n      <use xlink:href=\"#AppleGothic-80\"/>\n      <use x=\"60.299988\" xlink:href=\"#AppleGothic-67\"/>\n      <use x=\"128.799973\" xlink:href=\"#AppleGothic-45\"/>\n      <use x=\"178.799957\" xlink:href=\"#AppleGothic-68\"/>\n     </g>\n    </g>\n    <g id=\"line2d_25\">\n     <path d=\"M 293.660938 89.625 \nL 313.660938 89.625 \n\" style=\"fill:none;stroke:#9467bd;stroke-linecap:square;stroke-width:1.5;\"/>\n    </g>\n    <g id=\"line2d_26\"/>\n    <g id=\"text_17\">\n     <!-- PC-E -->\n     <defs>\n      <path d=\"M 4.40625 78.5 \nL 53.203125 78.5 \nL 53.203125 71.59375 \nL 12.296875 71.59375 \nL 12.296875 44.5 \nL 51.703125 44.5 \nL 51.703125 37.59375 \nL 12.296875 37.59375 \nL 12.296875 6.90625 \nL 53.5 6.90625 \nL 53.5 0 \nL 4.40625 0 \nz\n\" id=\"AppleGothic-69\"/>\n     </defs>\n     <g transform=\"translate(321.660938 93.125)scale(0.1 -0.1)\">\n      <use xlink:href=\"#AppleGothic-80\"/>\n      <use x=\"60.299988\" xlink:href=\"#AppleGothic-67\"/>\n      <use x=\"128.799973\" xlink:href=\"#AppleGothic-45\"/>\n      <use x=\"178.799957\" xlink:href=\"#AppleGothic-69\"/>\n     </g>\n    </g>\n   </g>\n  </g>\n </g>\n <defs>\n  <clipPath id=\"pc00862a60b\">\n   <rect height=\"217.44\" width=\"334.8\" x=\"21\" y=\"18.040625\"/>\n  </clipPath>\n </defs>\n</svg>\n",
      "image/png": "[encoded data removed]"
     },
     "metadata": {
      "needs_background": "light"
     }
    }
   ],
   "source": [
    "import matplotlib.pyplot as plt\n",
    "%matplotlib inline\n",
    "plt.plot(list(graph_data.index), graph_data[\"PC-A\"], label=\"PC-A\")\n",
    "plt.plot(list(graph_data.index), graph_data[\"PC-B\"], label=\"PC-B\")\n",
    "plt.plot(list(graph_data.index), graph_data[\"PC-C\"], label=\"PC-C\")\n",
    "plt.plot(list(graph_data.index), graph_data[\"PC-D\"], label=\"PC-D\")\n",
    "plt.plot(list(graph_data.index), graph_data[\"PC-E\"], label=\"PC-E\")\n",
    "plt.legend()"
   ]
  },
  {
   "cell_type": "code",
   "execution_count": null,
   "metadata": {},
   "outputs": [],
   "source": []
  }
 ],
 "metadata": {
  "kernelspec": {
   "display_name": "Python 3.7.4 64-bit",
   "language": "python",
   "name": "python37464bitd39eae76a1774e5faac4606ded3e4bc0"
  },
  "language_info": {
   "codemirror_mode": {
    "name": "ipython",
    "version": 3
   },
   "file_extension": ".py",
   "mimetype": "text/x-python",
   "name": "python",
   "nbconvert_exporter": "python",
   "pygments_lexer": "ipython3",
   "version": "3.7.4-final"
  }
 },
 "nbformat": 4,
 "nbformat_minor": 2
}